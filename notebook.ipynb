{
 "cells": [
  {
   "cell_type": "markdown",
   "source": [
    "# Clone and Install"
   ],
   "metadata": {
    "collapsed": false
   }
  },
  {
   "cell_type": "code",
   "execution_count": null,
   "metadata": {
    "collapsed": true
   },
   "outputs": [],
   "source": [
    "! git clone https://github.com/Ipouyall/VGB-Classifier"
   ]
  },
  {
   "cell_type": "code",
   "execution_count": null,
   "outputs": [],
   "source": [
    "%cd VGB-Classifier"
   ],
   "metadata": {
    "collapsed": false
   }
  },
  {
   "cell_type": "code",
   "execution_count": null,
   "outputs": [],
   "source": [],
   "metadata": {
    "collapsed": false
   }
  },
  {
   "cell_type": "code",
   "execution_count": null,
   "outputs": [],
   "source": [
    "import sys\n",
    "\n",
    "repo_dir = \"/content/VGB-Classifier/vgcn_bert\"\n",
    "sys.path.append(repo_dir)"
   ],
   "metadata": {
    "collapsed": false
   }
  },
  {
   "cell_type": "markdown",
   "source": [
    "# VGCN_BERT"
   ],
   "metadata": {
    "collapsed": false
   }
  },
  {
   "cell_type": "code",
   "execution_count": null,
   "outputs": [],
   "source": [
    "from vgcn_bert import Runner, Config"
   ],
   "metadata": {
    "collapsed": false
   }
  },
  {
   "cell_type": "code",
   "execution_count": null,
   "outputs": [],
   "source": [
    "config = Config(\n",
    "    needs_preprocess = True,\n",
    "    dataset_format = \"sst\",\n",
    "    dataset_path = \"data/SST-2\",\n",
    "    delete_stopwords = True,\n",
    "    higher_threshold_for_sw = False,\n",
    "    use_larger_cw = False,\n",
    "    dumps_objects = False,\n",
    "    dump_path = None,\n",
    "\n",
    "    tf_idf_mode = \"only_tf\",\n",
    "    bert_model_for_preprocessing = \"bert-base-uncased\",\n",
    "    bert_tokenizer_lower = True,\n",
    "\n",
    "    model = \"VGCN_BERT\",\n",
    "    bert_model_for_training = \"bert-base-uncased\",\n",
    "    learning_rate = 1e-5,\n",
    "    weight_decay = 1e-2,\n",
    "    dimension = 16,\n",
    "    epochs = 9,\n",
    "    dropout = 0.2,\n",
    "    warmup_proportion = 0.1,\n",
    "    model_dump_path = \"output\",\n",
    "    cfg_vocab_adj = \"pmi\",\n",
    ")"
   ],
   "metadata": {
    "collapsed": false
   }
  },
  {
   "cell_type": "code",
   "execution_count": null,
   "outputs": [],
   "source": [
    "vgcn_bert = Runner(config)"
   ],
   "metadata": {
    "collapsed": false
   }
  },
  {
   "cell_type": "code",
   "execution_count": null,
   "outputs": [],
   "source": [
    "vgcn_bert.run()"
   ],
   "metadata": {
    "collapsed": false
   }
  }
 ],
 "metadata": {
  "kernelspec": {
   "display_name": "Python 3",
   "language": "python",
   "name": "python3"
  },
  "language_info": {
   "codemirror_mode": {
    "name": "ipython",
    "version": 2
   },
   "file_extension": ".py",
   "mimetype": "text/x-python",
   "name": "python",
   "nbconvert_exporter": "python",
   "pygments_lexer": "ipython2",
   "version": "2.7.6"
  }
 },
 "nbformat": 4,
 "nbformat_minor": 0
}
